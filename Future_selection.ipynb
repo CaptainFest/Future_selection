{
 "cells": [
  {
   "cell_type": "code",
   "execution_count": 1,
   "metadata": {},
   "outputs": [],
   "source": [
    "import numpy as np\n",
    "import csv\n",
    "import os\n",
    "import sklearn\n",
    "import pandas\n",
    "from pandas import read_csv as read\n",
    "from sklearn import svm, preprocessing, ensemble\n",
    "from sklearn.model_selection import train_test_split, cross_val_score, KFold\n",
    "from scipy.spatial import distance\n",
    "import heapq\n",
    "import matplotlib.pyplot as plt"
   ]
  },
  {
   "cell_type": "code",
   "execution_count": 2,
   "metadata": {},
   "outputs": [],
   "source": [
    "path_train = \"lab2data/arcene_train.data\"\n",
    "data_train = read(path_train, delimiter=\" \")\n",
    "data_train.columns = [i for i in range(1, 10001)] + ['class']\n",
    "data_train = data_train.drop(['class'], axis=1)\n",
    "#data_train.head()"
   ]
  },
  {
   "cell_type": "code",
   "execution_count": 3,
   "metadata": {},
   "outputs": [],
   "source": [
    "path_test = \"lab2data/arcene_valid.data\"\n",
    "data_test = read(path_test, delimiter=\" \")\n",
    "data_test.columns = [i for i in range(1, 10001)] + ['class']\n",
    "data_test = data_test.drop(['class'], axis=1)\n",
    "#data_test.head()"
   ]
  },
  {
   "cell_type": "code",
   "execution_count": 4,
   "metadata": {},
   "outputs": [],
   "source": [
    "path_train_l = \"lab2data/arcene_train.labels\"\n",
    "data_train_l = read(path_train_l, delimiter=\" \")\n",
    "path_test_l = \"lab2data/arcene_valid.labels\"\n",
    "data_test_l = read(path_test_l, delimiter=\" \")"
   ]
  },
  {
   "cell_type": "code",
   "execution_count": 5,
   "metadata": {},
   "outputs": [],
   "source": [
    "X_train, X_test, y_train, y_test = data_train, data_test, np.ravel(data_train_l), np.ravel(data_test_l)"
   ]
  },
  {
   "cell_type": "markdown",
   "metadata": {},
   "source": [
    "# Base result"
   ]
  },
  {
   "cell_type": "code",
   "execution_count": 6,
   "metadata": {},
   "outputs": [
    {
     "name": "stdout",
     "output_type": "stream",
     "text": [
      "0.7373737373737373\n"
     ]
    }
   ],
   "source": [
    "rf = ensemble.RandomForestClassifier(n_estimators=100, random_state=11)\n",
    "rf.fit(X_train, y_train)\n",
    "base_score = rf.score(X_test, y_test)\n",
    "print(base_score)"
   ]
  },
  {
   "cell_type": "markdown",
   "metadata": {},
   "source": [
    "# Filter1 feature importance"
   ]
  },
  {
   "cell_type": "code",
   "execution_count": 7,
   "metadata": {},
   "outputs": [
    {
     "name": "stdout",
     "output_type": "stream",
     "text": [
      "Feature importances:\n",
      " 1. feature ' 7542' (0.0118)\n",
      " 2. feature ' 6307' (0.0067)\n",
      " 3. feature ' 1184' (0.0067)\n",
      " 4. feature ' 5473' (0.0064)\n",
      " 5. feature ' 4554' (0.0058)\n",
      " 6. feature '  414' (0.0054)\n",
      " 7. feature ' 6774' (0.0054)\n",
      " 8. feature ' 1411' (0.0053)\n",
      " 9. feature ' 5005' (0.0051)\n",
      "10. feature ' 9970' (0.0046)\n",
      "11. feature ' 6928' (0.0043)\n",
      "12. feature ' 6481' (0.0042)\n",
      "13. feature ' 9408' (0.0040)\n",
      "14. feature ' 7593' (0.0040)\n",
      "15. feature ' 4960' (0.0040)\n",
      "16. feature '  294' (0.0040)\n",
      "17. feature ' 7101' (0.0040)\n",
      "18. feature ' 2401' (0.0040)\n",
      "19. feature ' 8540' (0.0039)\n",
      "20. feature '  436' (0.0039)\n"
     ]
    }
   ],
   "source": [
    "importances = rf.feature_importances_\n",
    "indices = np.argsort(importances)[::-1]\n",
    "\n",
    "print(\"Feature importances:\")\n",
    "for f, idx in enumerate(indices[:20]):\n",
    "    print(\"{:2d}. feature '{:5d}' ({:.4f})\".format(f + 1, X_train.columns[idx], importances[idx]))"
   ]
  },
  {
   "cell_type": "code",
   "execution_count": 8,
   "metadata": {},
   "outputs": [],
   "source": [
    "best_features = indices[:135]\n",
    "best_features_names = X_train.columns[best_features]\n",
    "best_f = [int(i) for i in best_features_names]\n",
    "#print(best_f)"
   ]
  },
  {
   "cell_type": "code",
   "execution_count": 9,
   "metadata": {},
   "outputs": [],
   "source": [
    "#print(X_train[best_f])"
   ]
  },
  {
   "cell_type": "code",
   "execution_count": 10,
   "metadata": {},
   "outputs": [
    {
     "name": "stdout",
     "output_type": "stream",
     "text": [
      "0.7474747474747475\n"
     ]
    }
   ],
   "source": [
    "rf2 = ensemble.RandomForestClassifier(n_estimators=100, random_state=11)\n",
    "rf2.fit(X_train[best_f], y_train)\n",
    "future_importance_score = rf2.score(X_test[best_f], y_test)\n",
    "print(future_importance_score)"
   ]
  },
  {
   "cell_type": "markdown",
   "metadata": {},
   "source": [
    "# Filter2 euclidean distance"
   ]
  },
  {
   "cell_type": "code",
   "execution_count": 11,
   "metadata": {},
   "outputs": [
    {
     "name": "stdout",
     "output_type": "stream",
     "text": [
      "0.8080808080808081\n"
     ]
    }
   ],
   "source": [
    "# normalize the data attributes\n",
    "normalized_X = preprocessing.normalize(X_train)\n",
    "\n",
    "rf4 = ensemble.RandomForestClassifier(n_estimators=100, random_state=11)\n",
    "\n",
    "dst_array = []\n",
    "\n",
    "for i in range(0, 10000):\n",
    "    dst_array.append(distance.euclidean(normalized_X[:,i], y_train))\n",
    "dst_array = np.asarray(dst_array)\n",
    "ind = heapq.nsmallest(20, range(len(dst_array)), dst_array.take)\n",
    "\n",
    "rf4.fit(X_train[ind], y_train)\n",
    "euclidean_score = rf4.score(X_test[ind], y_test)\n",
    "print(euclidean_score)"
   ]
  },
  {
   "cell_type": "markdown",
   "metadata": {},
   "source": [
    "# Filter 3 coefficient correlation"
   ]
  },
  {
   "cell_type": "code",
   "execution_count": 12,
   "metadata": {},
   "outputs": [
    {
     "name": "stderr",
     "output_type": "stream",
     "text": [
      "e:\\prgfiles\\miniconda3\\lib\\site-packages\\numpy\\lib\\function_base.py:2400: RuntimeWarning: invalid value encountered in true_divide\n",
      "  c /= stddev[:, None]\n",
      "e:\\prgfiles\\miniconda3\\lib\\site-packages\\numpy\\lib\\function_base.py:2401: RuntimeWarning: invalid value encountered in true_divide\n",
      "  c /= stddev[None, :]\n"
     ]
    },
    {
     "name": "stdout",
     "output_type": "stream",
     "text": [
      "0.8282828282828283\n"
     ]
    }
   ],
   "source": [
    "rf5 = ensemble.RandomForestClassifier(n_estimators=100, random_state=11)\n",
    "normalized_X = preprocessing.normalize(X_train)\n",
    "\n",
    "corr_array = []\n",
    "\n",
    "for i in range(0, 10000):\n",
    "    corr_array.append(np.corrcoef(normalized_X[:,i], y_train)[0, 1])\n",
    "corr_array = np.asarray(corr_array)\n",
    "ind2 = heapq.nlargest(45, range(len(corr_array)), corr_array.take)\n",
    "\n",
    "rf4.fit(X_train[ind2], y_train)\n",
    "coef_corr_score = rf4.score(X_test[ind2], y_test)\n",
    "print(coef_corr_score)"
   ]
  },
  {
   "cell_type": "markdown",
   "metadata": {},
   "source": [
    "# Wrapper"
   ]
  },
  {
   "cell_type": "code",
   "execution_count": 19,
   "metadata": {},
   "outputs": [
    {
     "name": "stdout",
     "output_type": "stream",
     "text": [
      "0.7575757575757576\n"
     ]
    }
   ],
   "source": [
    "import random\n",
    "rf3 = ensemble.RandomForestClassifier(n_estimators=100, random_state=11)\n",
    "c = list(range(1, 10001))\n",
    "c = random.sample(c, 10000)\n",
    "g = random.sample(c, 10)\n",
    "rf_fit = rf3.fit(X_train[g], y_train)\n",
    "wrapper_score = rf_fit.score(X_test[g], y_test)\n",
    "for i in range(1, 10001):          #Forward Selection wrapper\n",
    "    if c[i] in g:\n",
    "        continue\n",
    "    g.append(c[i])\n",
    "    fit = rf_fit.fit(X_train[g], y_train)\n",
    "    score = rf_fit.score(X_test[g], y_test)\n",
    "    if score < wrapper_score:\n",
    "        break\n",
    "    wrapper_score = score\n",
    "print(wrapper_score)"
   ]
  },
  {
   "cell_type": "markdown",
   "metadata": {},
   "source": [
    "# Plot"
   ]
  },
  {
   "cell_type": "code",
   "execution_count": 20,
   "metadata": {},
   "outputs": [
    {
     "data": {
      "image/png": "[encoded data removed]",
      "text/plain": [
       "<Figure size 432x288 with 1 Axes>"
      ]
     },
     "metadata": {},
     "output_type": "display_data"
    }
   ],
   "source": [
    "x = [1, 2, 3, 4, 5]\n",
    "y = [base_score, future_importance_score, euclidean_score, coef_corr_score, wrapper_score]\n",
    "labels = ['Base', 'Future_importance', 'Eucledean', 'Coef_corr', 'Wrapper']\n",
    "\n",
    "plt.plot(x, y, 'ro')\n",
    "# You can specify a rotation for the tick labels in degrees or with keywords.\n",
    "plt.xticks(x, labels, rotation='vertical')\n",
    "# Pad margins so that markers don't get clipped by the axes\n",
    "plt.margins(0.2)\n",
    "# Tweak spacing to prevent clipping of tick-labels\n",
    "plt.subplots_adjust(bottom=0.15)\n",
    "plt.show()"
   ]
  }
 ],
 "metadata": {
  "kernelspec": {
   "display_name": "Python 3",
   "language": "python",
   "name": "python3"
  },
  "language_info": {
   "codemirror_mode": {
    "name": "ipython",
    "version": 3
   },
   "file_extension": ".py",
   "mimetype": "text/x-python",
   "name": "python",
   "nbconvert_exporter": "python",
   "pygments_lexer": "ipython3",
   "version": "3.6.6"
  }
 },
 "nbformat": 4,
 "nbformat_minor": 2
}
